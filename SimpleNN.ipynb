{
 "cells": [
  {
   "cell_type": "code",
   "execution_count": 2,
   "id": "0d6db897-f647-4da1-91a0-b561e2854bcb",
   "metadata": {},
   "outputs": [],
   "source": [
    "import tensorflow as tf\n",
    "# ^^^ pyforest auto-imports - don't write above this line\n"
   ]
  },
  {
   "cell_type": "code",
   "execution_count": 3,
   "id": "39526916-d6f8-42cc-8c8a-a92f34b76a08",
   "metadata": {},
   "outputs": [],
   "source": [
    "import yfinance as yf\n",
    "import sklearn\n",
    "from sklearn.model_selection import train_test_split\n",
    "import keras\n",
    "from keras.models import Sequential   # importing Sequential model\n",
    "from keras.layers import Dense        # importing Dense layers\n"
   ]
  },
  {
   "cell_type": "markdown",
   "id": "7ea9e9ad-4f79-47bf-bcfa-d63166031fd2",
   "metadata": {},
   "source": [
    "### Basic TF syntax\n",
    " - Similar to Numpy"
   ]
  },
  {
   "cell_type": "code",
   "execution_count": 4,
   "id": "02a384e8-553a-4f76-896e-a95d836d69e9",
   "metadata": {},
   "outputs": [
    {
     "data": {
      "application/javascript": [
       "\n",
       "        if (window._pyforest_update_imports_cell) { window._pyforest_update_imports_cell('import tensorflow as tf'); }\n",
       "    "
      ],
      "text/plain": [
       "<IPython.core.display.Javascript object>"
      ]
     },
     "metadata": {},
     "output_type": "display_data"
    },
    {
     "data": {
      "text/plain": [
       "<tf.Tensor: shape=(10,), dtype=float32, numpy=array([0., 0., 0., 0., 0., 0., 0., 0., 0., 0.], dtype=float32)>"
      ]
     },
     "execution_count": 4,
     "metadata": {},
     "output_type": "execute_result"
    }
   ],
   "source": [
    "tf.zeros(10)"
   ]
  },
  {
   "cell_type": "code",
   "execution_count": 5,
   "id": "787da6d7-c26c-4af2-b34a-4bab4fbd8e93",
   "metadata": {},
   "outputs": [
    {
     "data": {
      "application/javascript": [
       "\n",
       "        if (window._pyforest_update_imports_cell) { window._pyforest_update_imports_cell('import tensorflow as tf'); }\n",
       "    "
      ],
      "text/plain": [
       "<IPython.core.display.Javascript object>"
      ]
     },
     "metadata": {},
     "output_type": "display_data"
    },
    {
     "data": {
      "application/javascript": [
       "\n",
       "        if (window._pyforest_update_imports_cell) { window._pyforest_update_imports_cell('import tensorflow as tf'); }\n",
       "    "
      ],
      "text/plain": [
       "<IPython.core.display.Javascript object>"
      ]
     },
     "metadata": {},
     "output_type": "display_data"
    },
    {
     "data": {
      "application/javascript": [
       "\n",
       "        if (window._pyforest_update_imports_cell) { window._pyforest_update_imports_cell('import tensorflow as tf'); }\n",
       "    "
      ],
      "text/plain": [
       "<IPython.core.display.Javascript object>"
      ]
     },
     "metadata": {},
     "output_type": "display_data"
    },
    {
     "data": {
      "text/plain": [
       "(<tf.Variable 'Variable:0' shape=(2, 2) dtype=float32, numpy=\n",
       " array([[ 0.3118146 ,  0.00751485],\n",
       "        [-1.7428792 ,  0.4655131 ]], dtype=float32)>,\n",
       " <tf.Tensor: shape=(2, 2), dtype=float32, numpy=\n",
       " array([[9.7228348e-02, 5.6473044e-05],\n",
       "        [3.0376277e+00, 2.1670246e-01]], dtype=float32)>)"
      ]
     },
     "execution_count": 5,
     "metadata": {},
     "output_type": "execute_result"
    }
   ],
   "source": [
    "initial_value = tf.random.normal(shape=(2, 2))\n",
    "a = tf.Variable(initial_value)\n",
    "b= tf.Variable(initial_value)*a\n",
    "a,b"
   ]
  },
  {
   "cell_type": "code",
   "execution_count": 6,
   "id": "786dae72-133b-40fd-8825-d26c176455f5",
   "metadata": {},
   "outputs": [
    {
     "data": {
      "application/javascript": [
       "\n",
       "        if (window._pyforest_update_imports_cell) { window._pyforest_update_imports_cell('import tensorflow as tf'); }\n",
       "    "
      ],
      "text/plain": [
       "<IPython.core.display.Javascript object>"
      ]
     },
     "metadata": {},
     "output_type": "display_data"
    },
    {
     "data": {
      "application/javascript": [
       "\n",
       "        if (window._pyforest_update_imports_cell) { window._pyforest_update_imports_cell('import tensorflow as tf'); }\n",
       "    "
      ],
      "text/plain": [
       "<IPython.core.display.Javascript object>"
      ]
     },
     "metadata": {},
     "output_type": "display_data"
    },
    {
     "data": {
      "application/javascript": [
       "\n",
       "        if (window._pyforest_update_imports_cell) { window._pyforest_update_imports_cell('import tensorflow as tf'); }\n",
       "    "
      ],
      "text/plain": [
       "<IPython.core.display.Javascript object>"
      ]
     },
     "metadata": {},
     "output_type": "display_data"
    },
    {
     "data": {
      "application/javascript": [
       "\n",
       "        if (window._pyforest_update_imports_cell) { window._pyforest_update_imports_cell('import tensorflow as tf'); }\n",
       "    "
      ],
      "text/plain": [
       "<IPython.core.display.Javascript object>"
      ]
     },
     "metadata": {},
     "output_type": "display_data"
    },
    {
     "name": "stdout",
     "output_type": "stream",
     "text": [
      "tf.Tensor(\n",
      "[[ 0.9546661   0.99997175]\n",
      " [-0.4976647   0.9065834 ]], shape=(2, 2), dtype=float32)\n"
     ]
    }
   ],
   "source": [
    "with tf.GradientTape() as tape:\n",
    "    c = tf.sqrt(tf.square(a) + tf.square(b)) # tensorflow expressions\n",
    "    dc_da = tape.gradient(c, a) # take gradient\n",
    "    print(dc_da)"
   ]
  },
  {
   "cell_type": "markdown",
   "id": "f62f46ec-b037-4b76-a4cc-8c2119ca1802",
   "metadata": {},
   "source": [
    "### Activation Layers\n",
    "\n",
    "Common functions are \n",
    "- sigmoid\n",
    "- relu\n",
    "- tanh\n",
    "- softplus\n",
    "- softmax"
   ]
  },
  {
   "cell_type": "markdown",
   "id": "d31c0776-3f0f-4ac7-a267-f747da38ae2f",
   "metadata": {},
   "source": [
    "### Dense Layers\n",
    "\n",
    "Each dense layer is the linear functional equation (function need not be linear) s.t.\n",
    "\n",
    "output= activation(inner_product(input,kernel)+bias)\n",
    "\n",
    "Where\n",
    "- Activation is above\n",
    "- Kernel are weights at each layer\n",
    "- Bias is some bias when input is 0"
   ]
  },
  {
   "cell_type": "code",
   "execution_count": null,
   "id": "ff318133-bb26-4f3d-8829-4e192999f154",
   "metadata": {},
   "outputs": [],
   "source": []
  },
  {
   "cell_type": "markdown",
   "id": "4166b8c1-e5ec-4977-ad6a-0ce27c110ec9",
   "metadata": {},
   "source": [
    "### Simple Neural Network"
   ]
  },
  {
   "cell_type": "code",
   "execution_count": 7,
   "id": "fb6d2065-2dc0-4f0a-afdd-4a197dd1b520",
   "metadata": {},
   "outputs": [
    {
     "data": {
      "text/html": [
       "<div>\n",
       "<style scoped>\n",
       "    .dataframe tbody tr th:only-of-type {\n",
       "        vertical-align: middle;\n",
       "    }\n",
       "\n",
       "    .dataframe tbody tr th {\n",
       "        vertical-align: top;\n",
       "    }\n",
       "\n",
       "    .dataframe thead th {\n",
       "        text-align: right;\n",
       "    }\n",
       "</style>\n",
       "<table border=\"1\" class=\"dataframe\">\n",
       "  <thead>\n",
       "    <tr style=\"text-align: right;\">\n",
       "      <th></th>\n",
       "      <th>Open</th>\n",
       "      <th>High</th>\n",
       "      <th>Low</th>\n",
       "      <th>Close</th>\n",
       "      <th>Volume</th>\n",
       "      <th>Next_Open</th>\n",
       "    </tr>\n",
       "    <tr>\n",
       "      <th>Datetime</th>\n",
       "      <th></th>\n",
       "      <th></th>\n",
       "      <th></th>\n",
       "      <th></th>\n",
       "      <th></th>\n",
       "      <th></th>\n",
       "    </tr>\n",
       "  </thead>\n",
       "  <tbody>\n",
       "    <tr>\n",
       "      <th>2022-06-02 09:30:00-04:00</th>\n",
       "      <td>147.830002</td>\n",
       "      <td>148.160004</td>\n",
       "      <td>147.320007</td>\n",
       "      <td>147.490005</td>\n",
       "      <td>2526172</td>\n",
       "      <td>0</td>\n",
       "    </tr>\n",
       "    <tr>\n",
       "      <th>2022-06-02 09:31:00-04:00</th>\n",
       "      <td>147.490005</td>\n",
       "      <td>147.610001</td>\n",
       "      <td>146.860001</td>\n",
       "      <td>147.059998</td>\n",
       "      <td>586575</td>\n",
       "      <td>1</td>\n",
       "    </tr>\n",
       "    <tr>\n",
       "      <th>2022-06-02 09:32:00-04:00</th>\n",
       "      <td>147.070007</td>\n",
       "      <td>147.470001</td>\n",
       "      <td>147.070007</td>\n",
       "      <td>147.419998</td>\n",
       "      <td>435226</td>\n",
       "      <td>1</td>\n",
       "    </tr>\n",
       "    <tr>\n",
       "      <th>2022-06-02 09:33:00-04:00</th>\n",
       "      <td>147.440002</td>\n",
       "      <td>147.589996</td>\n",
       "      <td>147.149994</td>\n",
       "      <td>147.509995</td>\n",
       "      <td>290213</td>\n",
       "      <td>0</td>\n",
       "    </tr>\n",
       "    <tr>\n",
       "      <th>2022-06-02 09:34:00-04:00</th>\n",
       "      <td>147.506104</td>\n",
       "      <td>147.919998</td>\n",
       "      <td>147.350006</td>\n",
       "      <td>147.750000</td>\n",
       "      <td>419969</td>\n",
       "      <td>0</td>\n",
       "    </tr>\n",
       "    <tr>\n",
       "      <th>...</th>\n",
       "      <td>...</td>\n",
       "      <td>...</td>\n",
       "      <td>...</td>\n",
       "      <td>...</td>\n",
       "      <td>...</td>\n",
       "      <td>...</td>\n",
       "    </tr>\n",
       "    <tr>\n",
       "      <th>2022-06-10 11:28:00-04:00</th>\n",
       "      <td>137.390503</td>\n",
       "      <td>137.410004</td>\n",
       "      <td>137.270004</td>\n",
       "      <td>137.380096</td>\n",
       "      <td>222146</td>\n",
       "      <td>1</td>\n",
       "    </tr>\n",
       "    <tr>\n",
       "      <th>2022-06-10 11:29:00-04:00</th>\n",
       "      <td>137.389893</td>\n",
       "      <td>137.460007</td>\n",
       "      <td>137.300003</td>\n",
       "      <td>137.399994</td>\n",
       "      <td>190395</td>\n",
       "      <td>1</td>\n",
       "    </tr>\n",
       "    <tr>\n",
       "      <th>2022-06-10 11:30:00-04:00</th>\n",
       "      <td>137.410995</td>\n",
       "      <td>137.520004</td>\n",
       "      <td>137.380005</td>\n",
       "      <td>137.419998</td>\n",
       "      <td>160326</td>\n",
       "      <td>0</td>\n",
       "    </tr>\n",
       "    <tr>\n",
       "      <th>2022-06-10 11:31:00-04:00</th>\n",
       "      <td>137.410095</td>\n",
       "      <td>137.440002</td>\n",
       "      <td>137.330002</td>\n",
       "      <td>137.419998</td>\n",
       "      <td>129836</td>\n",
       "      <td>0</td>\n",
       "    </tr>\n",
       "    <tr>\n",
       "      <th>2022-06-10 11:32:31-04:00</th>\n",
       "      <td>137.419998</td>\n",
       "      <td>137.419998</td>\n",
       "      <td>137.419998</td>\n",
       "      <td>137.419998</td>\n",
       "      <td>0</td>\n",
       "      <td>0</td>\n",
       "    </tr>\n",
       "  </tbody>\n",
       "</table>\n",
       "<p>2461 rows × 6 columns</p>\n",
       "</div>"
      ],
      "text/plain": [
       "                                 Open        High         Low       Close  \\\n",
       "Datetime                                                                    \n",
       "2022-06-02 09:30:00-04:00  147.830002  148.160004  147.320007  147.490005   \n",
       "2022-06-02 09:31:00-04:00  147.490005  147.610001  146.860001  147.059998   \n",
       "2022-06-02 09:32:00-04:00  147.070007  147.470001  147.070007  147.419998   \n",
       "2022-06-02 09:33:00-04:00  147.440002  147.589996  147.149994  147.509995   \n",
       "2022-06-02 09:34:00-04:00  147.506104  147.919998  147.350006  147.750000   \n",
       "...                               ...         ...         ...         ...   \n",
       "2022-06-10 11:28:00-04:00  137.390503  137.410004  137.270004  137.380096   \n",
       "2022-06-10 11:29:00-04:00  137.389893  137.460007  137.300003  137.399994   \n",
       "2022-06-10 11:30:00-04:00  137.410995  137.520004  137.380005  137.419998   \n",
       "2022-06-10 11:31:00-04:00  137.410095  137.440002  137.330002  137.419998   \n",
       "2022-06-10 11:32:31-04:00  137.419998  137.419998  137.419998  137.419998   \n",
       "\n",
       "                            Volume  Next_Open  \n",
       "Datetime                                       \n",
       "2022-06-02 09:30:00-04:00  2526172          0  \n",
       "2022-06-02 09:31:00-04:00   586575          1  \n",
       "2022-06-02 09:32:00-04:00   435226          1  \n",
       "2022-06-02 09:33:00-04:00   290213          0  \n",
       "2022-06-02 09:34:00-04:00   419969          0  \n",
       "...                            ...        ...  \n",
       "2022-06-10 11:28:00-04:00   222146          1  \n",
       "2022-06-10 11:29:00-04:00   190395          1  \n",
       "2022-06-10 11:30:00-04:00   160326          0  \n",
       "2022-06-10 11:31:00-04:00   129836          0  \n",
       "2022-06-10 11:32:31-04:00        0          0  \n",
       "\n",
       "[2461 rows x 6 columns]"
      ]
     },
     "execution_count": 7,
     "metadata": {},
     "output_type": "execute_result"
    }
   ],
   "source": [
    "aapl = yf.Ticker('AAPL')\n",
    "history = aapl.history(period='7d', interval='1m')\n",
    "\n",
    "history=history.drop(columns=['Dividends','Stock Splits'])\n",
    "history['Next_Open']=history['Open'].shift(-1)\n",
    "history['Next_Open']=(history['Next_Open']>history['Close']).astype(int)\n",
    "hisory=history.dropna()\n",
    "history"
   ]
  },
  {
   "cell_type": "markdown",
   "id": "796af9db-5312-44fb-94cb-178e449a5c2e",
   "metadata": {},
   "source": [
    "### Use Previous OHLCV to predict next open "
   ]
  },
  {
   "cell_type": "code",
   "execution_count": 8,
   "id": "992ed3e9-089c-4d37-bb89-2123d8aa65b7",
   "metadata": {},
   "outputs": [],
   "source": [
    "features=['Open','High','Low','Close','Volume']"
   ]
  },
  {
   "cell_type": "markdown",
   "id": "61abc5e8-a4a0-4342-ac40-af2e0dab57da",
   "metadata": {},
   "source": [
    "### Separata Data into training/testing"
   ]
  },
  {
   "cell_type": "code",
   "execution_count": 9,
   "id": "f62cc4de-6ba4-4f6a-a120-92bd5a2c1dc0",
   "metadata": {},
   "outputs": [
    {
     "data": {
      "text/html": [
       "<div>\n",
       "<style scoped>\n",
       "    .dataframe tbody tr th:only-of-type {\n",
       "        vertical-align: middle;\n",
       "    }\n",
       "\n",
       "    .dataframe tbody tr th {\n",
       "        vertical-align: top;\n",
       "    }\n",
       "\n",
       "    .dataframe thead th {\n",
       "        text-align: right;\n",
       "    }\n",
       "</style>\n",
       "<table border=\"1\" class=\"dataframe\">\n",
       "  <thead>\n",
       "    <tr style=\"text-align: right;\">\n",
       "      <th></th>\n",
       "      <th>Open</th>\n",
       "      <th>High</th>\n",
       "      <th>Low</th>\n",
       "      <th>Close</th>\n",
       "      <th>Volume</th>\n",
       "    </tr>\n",
       "    <tr>\n",
       "      <th>Datetime</th>\n",
       "      <th></th>\n",
       "      <th></th>\n",
       "      <th></th>\n",
       "      <th></th>\n",
       "      <th></th>\n",
       "    </tr>\n",
       "  </thead>\n",
       "  <tbody>\n",
       "    <tr>\n",
       "      <th>2022-06-10 09:39:00-04:00</th>\n",
       "      <td>140.000000</td>\n",
       "      <td>140.020004</td>\n",
       "      <td>139.679993</td>\n",
       "      <td>139.699997</td>\n",
       "      <td>347752</td>\n",
       "    </tr>\n",
       "    <tr>\n",
       "      <th>2022-06-02 14:01:00-04:00</th>\n",
       "      <td>150.279999</td>\n",
       "      <td>150.330002</td>\n",
       "      <td>150.235001</td>\n",
       "      <td>150.294998</td>\n",
       "      <td>97170</td>\n",
       "    </tr>\n",
       "    <tr>\n",
       "      <th>2022-06-07 14:29:00-04:00</th>\n",
       "      <td>148.860001</td>\n",
       "      <td>148.865005</td>\n",
       "      <td>148.750000</td>\n",
       "      <td>148.755005</td>\n",
       "      <td>102829</td>\n",
       "    </tr>\n",
       "    <tr>\n",
       "      <th>2022-06-09 13:46:00-04:00</th>\n",
       "      <td>145.669998</td>\n",
       "      <td>145.735001</td>\n",
       "      <td>145.669998</td>\n",
       "      <td>145.699997</td>\n",
       "      <td>88707</td>\n",
       "    </tr>\n",
       "    <tr>\n",
       "      <th>2022-06-03 10:56:00-04:00</th>\n",
       "      <td>145.570007</td>\n",
       "      <td>145.639999</td>\n",
       "      <td>145.460007</td>\n",
       "      <td>145.580994</td>\n",
       "      <td>130995</td>\n",
       "    </tr>\n",
       "    <tr>\n",
       "      <th>...</th>\n",
       "      <td>...</td>\n",
       "      <td>...</td>\n",
       "      <td>...</td>\n",
       "      <td>...</td>\n",
       "      <td>...</td>\n",
       "    </tr>\n",
       "    <tr>\n",
       "      <th>2022-06-06 13:45:00-04:00</th>\n",
       "      <td>146.565002</td>\n",
       "      <td>146.619995</td>\n",
       "      <td>146.470001</td>\n",
       "      <td>146.475098</td>\n",
       "      <td>132806</td>\n",
       "    </tr>\n",
       "    <tr>\n",
       "      <th>2022-06-08 12:23:00-04:00</th>\n",
       "      <td>149.000000</td>\n",
       "      <td>149.018402</td>\n",
       "      <td>148.839005</td>\n",
       "      <td>148.878998</td>\n",
       "      <td>88921</td>\n",
       "    </tr>\n",
       "    <tr>\n",
       "      <th>2022-06-03 15:45:00-04:00</th>\n",
       "      <td>145.184998</td>\n",
       "      <td>145.240005</td>\n",
       "      <td>145.089996</td>\n",
       "      <td>145.119705</td>\n",
       "      <td>205491</td>\n",
       "    </tr>\n",
       "    <tr>\n",
       "      <th>2022-06-06 10:27:00-04:00</th>\n",
       "      <td>148.220001</td>\n",
       "      <td>148.399994</td>\n",
       "      <td>148.190002</td>\n",
       "      <td>148.360001</td>\n",
       "      <td>162648</td>\n",
       "    </tr>\n",
       "    <tr>\n",
       "      <th>2022-06-08 11:05:00-04:00</th>\n",
       "      <td>148.779999</td>\n",
       "      <td>148.990005</td>\n",
       "      <td>148.779999</td>\n",
       "      <td>148.940002</td>\n",
       "      <td>139694</td>\n",
       "    </tr>\n",
       "  </tbody>\n",
       "</table>\n",
       "<p>1845 rows × 5 columns</p>\n",
       "</div>"
      ],
      "text/plain": [
       "                                 Open        High         Low       Close  \\\n",
       "Datetime                                                                    \n",
       "2022-06-10 09:39:00-04:00  140.000000  140.020004  139.679993  139.699997   \n",
       "2022-06-02 14:01:00-04:00  150.279999  150.330002  150.235001  150.294998   \n",
       "2022-06-07 14:29:00-04:00  148.860001  148.865005  148.750000  148.755005   \n",
       "2022-06-09 13:46:00-04:00  145.669998  145.735001  145.669998  145.699997   \n",
       "2022-06-03 10:56:00-04:00  145.570007  145.639999  145.460007  145.580994   \n",
       "...                               ...         ...         ...         ...   \n",
       "2022-06-06 13:45:00-04:00  146.565002  146.619995  146.470001  146.475098   \n",
       "2022-06-08 12:23:00-04:00  149.000000  149.018402  148.839005  148.878998   \n",
       "2022-06-03 15:45:00-04:00  145.184998  145.240005  145.089996  145.119705   \n",
       "2022-06-06 10:27:00-04:00  148.220001  148.399994  148.190002  148.360001   \n",
       "2022-06-08 11:05:00-04:00  148.779999  148.990005  148.779999  148.940002   \n",
       "\n",
       "                           Volume  \n",
       "Datetime                           \n",
       "2022-06-10 09:39:00-04:00  347752  \n",
       "2022-06-02 14:01:00-04:00   97170  \n",
       "2022-06-07 14:29:00-04:00  102829  \n",
       "2022-06-09 13:46:00-04:00   88707  \n",
       "2022-06-03 10:56:00-04:00  130995  \n",
       "...                           ...  \n",
       "2022-06-06 13:45:00-04:00  132806  \n",
       "2022-06-08 12:23:00-04:00   88921  \n",
       "2022-06-03 15:45:00-04:00  205491  \n",
       "2022-06-06 10:27:00-04:00  162648  \n",
       "2022-06-08 11:05:00-04:00  139694  \n",
       "\n",
       "[1845 rows x 5 columns]"
      ]
     },
     "execution_count": 9,
     "metadata": {},
     "output_type": "execute_result"
    }
   ],
   "source": [
    "### sklearn method to randomly sample train/test data -> Assuming no time series effect \n",
    "X_train, X_test, Y_train, Y_test = train_test_split(history[features], history['Next_Open'], random_state=0, train_size = .75)\n",
    "X_train"
   ]
  },
  {
   "cell_type": "markdown",
   "id": "3313a909-4bb6-41bc-8390-9314ba106e99",
   "metadata": {},
   "source": [
    "Sequential Class is a linear stack of neural network layers of arbitrary activation function"
   ]
  },
  {
   "cell_type": "code",
   "execution_count": 13,
   "id": "7043909b-64b0-4f45-97ff-2d3e775792d1",
   "metadata": {},
   "outputs": [
    {
     "data": {
      "application/javascript": [
       "\n",
       "        if (window._pyforest_update_imports_cell) { window._pyforest_update_imports_cell('import tensorflow as tf'); }\n",
       "    "
      ],
      "text/plain": [
       "<IPython.core.display.Javascript object>"
      ]
     },
     "metadata": {},
     "output_type": "display_data"
    }
   ],
   "source": [
    "model = tf.keras.Sequential() "
   ]
  },
  {
   "cell_type": "markdown",
   "id": "edcf91ee-5ac7-4009-9045-e79d24be3388",
   "metadata": {},
   "source": [
    "Add two layers of sigmoid activation functions"
   ]
  },
  {
   "cell_type": "code",
   "execution_count": 14,
   "id": "8fc73f9c-52be-4c79-ad6e-bf764fb73088",
   "metadata": {},
   "outputs": [],
   "source": [
    "model.add(Dense(16, input_dim=5, activation='sigmoid'))\n",
    "model.add(Dense(8, activation='sigmoid'))\n"
   ]
  },
  {
   "cell_type": "code",
   "execution_count": 15,
   "id": "dd73176b-7368-4098-9234-9ba1f086844b",
   "metadata": {},
   "outputs": [
    {
     "name": "stdout",
     "output_type": "stream",
     "text": [
      "Model: \"sequential_1\"\n",
      "_________________________________________________________________\n",
      "Layer (type)                 Output Shape              Param #   \n",
      "=================================================================\n",
      "dense_2 (Dense)              (None, 16)                96        \n",
      "_________________________________________________________________\n",
      "dense_3 (Dense)              (None, 8)                 136       \n",
      "=================================================================\n",
      "Total params: 232\n",
      "Trainable params: 232\n",
      "Non-trainable params: 0\n",
      "_________________________________________________________________\n"
     ]
    }
   ],
   "source": [
    "model.summary()"
   ]
  },
  {
   "cell_type": "code",
   "execution_count": 9,
   "id": "f35440a4-7753-467a-8cb6-cb11f9873926",
   "metadata": {},
   "outputs": [
    {
     "name": "stdout",
     "output_type": "stream",
     "text": [
      "Epoch 1/50\n",
      "58/58 [==============================] - 1s 2ms/step - loss: 2.1616 - accuracy: 0.3158\n",
      "Epoch 2/50\n",
      "58/58 [==============================] - 0s 2ms/step - loss: 1.4401 - accuracy: 0.5986\n",
      "Epoch 3/50\n",
      "58/58 [==============================] - 0s 2ms/step - loss: 1.0839 - accuracy: 0.5991\n",
      "Epoch 4/50\n",
      "58/58 [==============================] - 0s 2ms/step - loss: 0.8983 - accuracy: 0.5991\n",
      "Epoch 5/50\n",
      "58/58 [==============================] - 0s 2ms/step - loss: 0.8095 - accuracy: 0.5991\n",
      "Epoch 6/50\n",
      "58/58 [==============================] - 0s 2ms/step - loss: 0.7661 - accuracy: 0.5991\n",
      "Epoch 7/50\n",
      "58/58 [==============================] - 0s 2ms/step - loss: 0.7418 - accuracy: 0.5991\n",
      "Epoch 8/50\n",
      "58/58 [==============================] - 0s 2ms/step - loss: 0.7265 - accuracy: 0.5991\n",
      "Epoch 9/50\n",
      "58/58 [==============================] - 0s 2ms/step - loss: 0.7160 - accuracy: 0.5991\n",
      "Epoch 10/50\n",
      "58/58 [==============================] - 0s 2ms/step - loss: 0.7087 - accuracy: 0.5991\n",
      "Epoch 11/50\n",
      "58/58 [==============================] - 0s 5ms/step - loss: 0.7033 - accuracy: 0.5991\n",
      "Epoch 12/50\n",
      "58/58 [==============================] - 0s 7ms/step - loss: 0.6989 - accuracy: 0.5991\n",
      "Epoch 13/50\n",
      "58/58 [==============================] - 0s 6ms/step - loss: 0.6959 - accuracy: 0.5991\n",
      "Epoch 14/50\n",
      "58/58 [==============================] - 0s 7ms/step - loss: 0.6930 - accuracy: 0.5991\n",
      "Epoch 15/50\n",
      "58/58 [==============================] - 0s 7ms/step - loss: 0.6912 - accuracy: 0.5991\n",
      "Epoch 16/50\n",
      "58/58 [==============================] - 0s 7ms/step - loss: 0.6892 - accuracy: 0.5991\n",
      "Epoch 17/50\n",
      "58/58 [==============================] - 0s 3ms/step - loss: 0.6878 - accuracy: 0.5991\n",
      "Epoch 18/50\n",
      "58/58 [==============================] - 0s 6ms/step - loss: 0.6865 - accuracy: 0.5991\n",
      "Epoch 19/50\n",
      "58/58 [==============================] - 0s 7ms/step - loss: 0.6853 - accuracy: 0.5991\n",
      "Epoch 20/50\n",
      "58/58 [==============================] - 0s 7ms/step - loss: 0.6841 - accuracy: 0.5991\n",
      "Epoch 21/50\n",
      "58/58 [==============================] - 0s 7ms/step - loss: 0.6836 - accuracy: 0.5991\n",
      "Epoch 22/50\n",
      "58/58 [==============================] - 0s 7ms/step - loss: 0.6829 - accuracy: 0.5991\n",
      "Epoch 23/50\n",
      "58/58 [==============================] - 0s 7ms/step - loss: 0.6819 - accuracy: 0.5991\n",
      "Epoch 24/50\n",
      "58/58 [==============================] - 0s 6ms/step - loss: 0.6814 - accuracy: 0.5991\n",
      "Epoch 25/50\n",
      "58/58 [==============================] - 0s 7ms/step - loss: 0.6809 - accuracy: 0.5991\n",
      "Epoch 26/50\n",
      "58/58 [==============================] - 0s 7ms/step - loss: 0.6805 - accuracy: 0.5991\n",
      "Epoch 27/50\n",
      "58/58 [==============================] - 0s 7ms/step - loss: 0.6799 - accuracy: 0.5991\n",
      "Epoch 28/50\n",
      "58/58 [==============================] - 0s 8ms/step - loss: 0.6797 - accuracy: 0.5991\n",
      "Epoch 29/50\n",
      "58/58 [==============================] - 0s 7ms/step - loss: 0.6800 - accuracy: 0.5991\n",
      "Epoch 30/50\n",
      "58/58 [==============================] - 0s 8ms/step - loss: 0.6793 - accuracy: 0.5991\n",
      "Epoch 31/50\n",
      "58/58 [==============================] - 0s 7ms/step - loss: 0.6787 - accuracy: 0.5991\n",
      "Epoch 32/50\n",
      "58/58 [==============================] - 0s 7ms/step - loss: 0.6785 - accuracy: 0.5991\n",
      "Epoch 33/50\n",
      "58/58 [==============================] - 0s 7ms/step - loss: 0.6780 - accuracy: 0.5991\n",
      "Epoch 34/50\n",
      "58/58 [==============================] - 0s 7ms/step - loss: 0.6778 - accuracy: 0.5991\n",
      "Epoch 35/50\n",
      "58/58 [==============================] - 0s 7ms/step - loss: 0.6776 - accuracy: 0.5991\n",
      "Epoch 36/50\n",
      "58/58 [==============================] - 0s 7ms/step - loss: 0.6775 - accuracy: 0.5991\n",
      "Epoch 37/50\n",
      "58/58 [==============================] - 0s 7ms/step - loss: 0.6774 - accuracy: 0.5991\n",
      "Epoch 38/50\n",
      "58/58 [==============================] - 0s 5ms/step - loss: 0.6771 - accuracy: 0.5991\n",
      "Epoch 39/50\n",
      "58/58 [==============================] - 0s 3ms/step - loss: 0.6768 - accuracy: 0.5991\n",
      "Epoch 40/50\n",
      "58/58 [==============================] - 0s 4ms/step - loss: 0.6767 - accuracy: 0.5991\n",
      "Epoch 41/50\n",
      "58/58 [==============================] - 0s 4ms/step - loss: 0.6770 - accuracy: 0.5991\n",
      "Epoch 42/50\n",
      "58/58 [==============================] - 0s 7ms/step - loss: 0.6765 - accuracy: 0.5991\n",
      "Epoch 43/50\n",
      "58/58 [==============================] - 0s 7ms/step - loss: 0.6769 - accuracy: 0.5991\n",
      "Epoch 44/50\n",
      "58/58 [==============================] - 0s 7ms/step - loss: 0.6763 - accuracy: 0.5991\n",
      "Epoch 45/50\n",
      "58/58 [==============================] - 0s 7ms/step - loss: 0.6762 - accuracy: 0.5991\n",
      "Epoch 46/50\n",
      "58/58 [==============================] - 0s 7ms/step - loss: 0.6759 - accuracy: 0.5991\n",
      "Epoch 47/50\n",
      "58/58 [==============================] - 0s 7ms/step - loss: 0.6760 - accuracy: 0.5991\n",
      "Epoch 48/50\n",
      "58/58 [==============================] - 0s 6ms/step - loss: 0.6761 - accuracy: 0.5991\n",
      "Epoch 49/50\n",
      "58/58 [==============================] - 0s 7ms/step - loss: 0.6759 - accuracy: 0.5991\n",
      "Epoch 50/50\n",
      "58/58 [==============================] - 0s 7ms/step - loss: 0.6761 - accuracy: 0.5991\n",
      "20/20 [==============================] - 0s 3ms/step - loss: 0.6614 - accuracy: 0.6315\n"
     ]
    },
    {
     "data": {
      "text/plain": [
       "[0.6614301204681396, 0.6314935088157654]"
      ]
     },
     "execution_count": 9,
     "metadata": {},
     "output_type": "execute_result"
    }
   ],
   "source": [
    "model.compile(optimizer=\"adam\", loss=\"sparse_categorical_crossentropy\",metrics=['accuracy'])\n",
    "model.fit(X_train, Y_train, epochs=50)\n",
    "model.evaluate(X_test, Y_test)"
   ]
  },
  {
   "cell_type": "code",
   "execution_count": null,
   "id": "3164dd88-eb9b-4208-b300-139b3ff2d58b",
   "metadata": {},
   "outputs": [],
   "source": []
  }
 ],
 "metadata": {
  "kernelspec": {
   "display_name": "Python [conda env:research]",
   "language": "python",
   "name": "conda-env-research-py"
  },
  "language_info": {
   "codemirror_mode": {
    "name": "ipython",
    "version": 3
   },
   "file_extension": ".py",
   "mimetype": "text/x-python",
   "name": "python",
   "nbconvert_exporter": "python",
   "pygments_lexer": "ipython3",
   "version": "3.6.13"
  }
 },
 "nbformat": 4,
 "nbformat_minor": 5
}
