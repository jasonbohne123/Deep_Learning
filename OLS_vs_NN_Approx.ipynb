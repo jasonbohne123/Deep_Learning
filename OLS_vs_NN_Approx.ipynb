{
 "cells": [
  {
   "cell_type": "markdown",
   "id": "90f1d5ea-8b93-42be-94ad-0febf2cf54c6",
   "metadata": {},
   "source": [
    "### Using Neural Network to approximate functions compared to traditional supervised learning approaches\n",
    "\n",
    "Inspiration drawn from https://nbviewer.org/url/people.math.ethz.ch/~jteichma/lecture_ml_web/Function%20approximation%20by%20linear%20model%20and%20deep%20network.ipynb\n"
   ]
  },
  {
   "cell_type": "code",
   "execution_count": 1,
   "id": "5f63b6f2-74cb-4bc8-8a82-9f23a29c080f",
   "metadata": {},
   "outputs": [
    {
     "name": "stderr",
     "output_type": "stream",
     "text": [
      "/home/jbohn/miniconda3/envs/research/lib/python3.7/site-packages/tensorflow/python/framework/dtypes.py:516: FutureWarning: Passing (type, 1) or '1type' as a synonym of type is deprecated; in a future version of numpy, it will be understood as (type, (1,)) / '(1,)type'.\n",
      "  _np_qint8 = np.dtype([(\"qint8\", np.int8, 1)])\n",
      "/home/jbohn/miniconda3/envs/research/lib/python3.7/site-packages/tensorflow/python/framework/dtypes.py:517: FutureWarning: Passing (type, 1) or '1type' as a synonym of type is deprecated; in a future version of numpy, it will be understood as (type, (1,)) / '(1,)type'.\n",
      "  _np_quint8 = np.dtype([(\"quint8\", np.uint8, 1)])\n",
      "/home/jbohn/miniconda3/envs/research/lib/python3.7/site-packages/tensorflow/python/framework/dtypes.py:518: FutureWarning: Passing (type, 1) or '1type' as a synonym of type is deprecated; in a future version of numpy, it will be understood as (type, (1,)) / '(1,)type'.\n",
      "  _np_qint16 = np.dtype([(\"qint16\", np.int16, 1)])\n",
      "/home/jbohn/miniconda3/envs/research/lib/python3.7/site-packages/tensorflow/python/framework/dtypes.py:519: FutureWarning: Passing (type, 1) or '1type' as a synonym of type is deprecated; in a future version of numpy, it will be understood as (type, (1,)) / '(1,)type'.\n",
      "  _np_quint16 = np.dtype([(\"quint16\", np.uint16, 1)])\n",
      "/home/jbohn/miniconda3/envs/research/lib/python3.7/site-packages/tensorflow/python/framework/dtypes.py:520: FutureWarning: Passing (type, 1) or '1type' as a synonym of type is deprecated; in a future version of numpy, it will be understood as (type, (1,)) / '(1,)type'.\n",
      "  _np_qint32 = np.dtype([(\"qint32\", np.int32, 1)])\n",
      "/home/jbohn/miniconda3/envs/research/lib/python3.7/site-packages/tensorflow/python/framework/dtypes.py:525: FutureWarning: Passing (type, 1) or '1type' as a synonym of type is deprecated; in a future version of numpy, it will be understood as (type, (1,)) / '(1,)type'.\n",
      "  np_resource = np.dtype([(\"resource\", np.ubyte, 1)])\n",
      "/home/jbohn/miniconda3/envs/research/lib/python3.7/site-packages/tensorboard/compat/tensorflow_stub/dtypes.py:541: FutureWarning: Passing (type, 1) or '1type' as a synonym of type is deprecated; in a future version of numpy, it will be understood as (type, (1,)) / '(1,)type'.\n",
      "  _np_qint8 = np.dtype([(\"qint8\", np.int8, 1)])\n",
      "/home/jbohn/miniconda3/envs/research/lib/python3.7/site-packages/tensorboard/compat/tensorflow_stub/dtypes.py:542: FutureWarning: Passing (type, 1) or '1type' as a synonym of type is deprecated; in a future version of numpy, it will be understood as (type, (1,)) / '(1,)type'.\n",
      "  _np_quint8 = np.dtype([(\"quint8\", np.uint8, 1)])\n",
      "/home/jbohn/miniconda3/envs/research/lib/python3.7/site-packages/tensorboard/compat/tensorflow_stub/dtypes.py:543: FutureWarning: Passing (type, 1) or '1type' as a synonym of type is deprecated; in a future version of numpy, it will be understood as (type, (1,)) / '(1,)type'.\n",
      "  _np_qint16 = np.dtype([(\"qint16\", np.int16, 1)])\n",
      "/home/jbohn/miniconda3/envs/research/lib/python3.7/site-packages/tensorboard/compat/tensorflow_stub/dtypes.py:544: FutureWarning: Passing (type, 1) or '1type' as a synonym of type is deprecated; in a future version of numpy, it will be understood as (type, (1,)) / '(1,)type'.\n",
      "  _np_quint16 = np.dtype([(\"quint16\", np.uint16, 1)])\n",
      "/home/jbohn/miniconda3/envs/research/lib/python3.7/site-packages/tensorboard/compat/tensorflow_stub/dtypes.py:545: FutureWarning: Passing (type, 1) or '1type' as a synonym of type is deprecated; in a future version of numpy, it will be understood as (type, (1,)) / '(1,)type'.\n",
      "  _np_qint32 = np.dtype([(\"qint32\", np.int32, 1)])\n",
      "/home/jbohn/miniconda3/envs/research/lib/python3.7/site-packages/tensorboard/compat/tensorflow_stub/dtypes.py:550: FutureWarning: Passing (type, 1) or '1type' as a synonym of type is deprecated; in a future version of numpy, it will be understood as (type, (1,)) / '(1,)type'.\n",
      "  np_resource = np.dtype([(\"resource\", np.ubyte, 1)])\n"
     ]
    }
   ],
   "source": [
    "import matplotlib.pyplot as plt\n",
    "# ^^^ pyforest auto-imports - don't write above this line\n",
    "import os\n",
    "os.environ['TF_CPP_MIN_LOG_LEVEL'] = '2'\n",
    "import tensorflow as tf\n",
    "from tensorflow import keras\n",
    "from tensorflow.keras import layers\n",
    "from tqdm import tqdm\n",
    "import time\n",
    "\n",
    "import numpy as np\n",
    "import pandas as pd\n",
    "import matplotlib.pyplot as plt\n",
    "from scipy.linalg import lstsq\n",
    "from sklearn import linear_model\n",
    "from sklearn.model_selection import train_test_split\n"
   ]
  },
  {
   "cell_type": "code",
   "execution_count": 2,
   "id": "2a7af2a0-e2c4-408e-81e1-5491084e0c57",
   "metadata": {},
   "outputs": [],
   "source": [
    "# Definition of the function with exponential and sinusoidal terms\n",
    "def func_trans(x):\n",
    "    result = x**2*np.sin(3*x)\n",
    "    return (result)"
   ]
  },
  {
   "cell_type": "code",
   "execution_count": 3,
   "id": "4adad11f-7f5a-4ffc-a97d-de578fc5175c",
   "metadata": {},
   "outputs": [
    {
     "data": {
      "text/plain": [
       "[<matplotlib.lines.Line2D at 0x7f1a5de07690>]"
      ]
     },
     "execution_count": 3,
     "metadata": {},
     "output_type": "execute_result"
    },
    {
     "data": {
      "image/png": "[encoded data removed]",
      "text/plain": [
       "<Figure size 432x288 with 1 Axes>"
      ]
     },
     "metadata": {
      "needs_background": "light"
     },
     "output_type": "display_data"
    }
   ],
   "source": [
    "x_smooth = np.array(np.linspace(0,10,100))\n",
    "y_smooth = func_trans(x_smooth)\n",
    "noise=np.random.normal(loc=0,scale=10,size=100)\n",
    "y_obs=y_smooth+noise\n",
    "plt.scatter(x_smooth,y_obs)\n",
    "plt.plot(x_smooth,y_smooth,color='red')\n"
   ]
  },
  {
   "cell_type": "code",
   "execution_count": 4,
   "id": "ab67ca89-6865-46c4-a8ad-35ec6f14e1e7",
   "metadata": {},
   "outputs": [],
   "source": [
    "X_train, X_test, y_train, y_test = train_test_split(x_smooth, y_smooth, test_size=0.33)\n",
    "X_train=X_train.reshape(len(X_train),1)\n",
    "X_test=X_test.reshape(len(X_test),1)\n",
    "y_train=y_train.reshape(len(y_train),1)\n",
    "y_test=y_test.reshape(len(y_test),1)\n",
    "\n"
   ]
  },
  {
   "cell_type": "markdown",
   "id": "2a4b0b7d-e54e-4eef-8ded-235425c1b402",
   "metadata": {},
   "source": [
    "Supervised Learning Approach using Least Squares Polynomial And Trig fitting"
   ]
  },
  {
   "cell_type": "code",
   "execution_count": 5,
   "id": "43cc1c9d-c648-424f-bba6-ccdae4648f2d",
   "metadata": {},
   "outputs": [],
   "source": [
    "M = x_smooth[:, np.newaxis]**[0,1,2,1]\n",
    "M[:,3]=np.sin(M[:,3])\n",
    "\n"
   ]
  },
  {
   "cell_type": "code",
   "execution_count": 6,
   "id": "8182e14f-a5ec-453f-b4a6-43154b936e9c",
   "metadata": {},
   "outputs": [
    {
     "name": "stdout",
     "output_type": "stream",
     "text": [
      "LS Solution is [-12.17318047   5.92871111  -0.62514577   6.89958918]\n",
      "Sum of Squared Residuals is 115826.05\n",
      "Rank of LS matrix is 4\n",
      "Singular Values are [454.13151345  15.51479942   6.88838049   2.76475549]\n"
     ]
    }
   ],
   "source": [
    "p, res, rnk, s = lstsq(M, y_obs)\n",
    "print(\"LS Solution is\", p)\n",
    "print(\"Sum of Squared Residuals is\", round(res,2))\n",
    "print(\"Rank of LS matrix is\", rnk)\n",
    "print(\"Singular Values are\", s)"
   ]
  },
  {
   "cell_type": "code",
   "execution_count": 7,
   "id": "9883961d-3927-4655-b052-da3fdee75892",
   "metadata": {},
   "outputs": [
    {
     "data": {
      "text/plain": [
       "array([ 0.        ,  2.47115663, -0.29783516,  3.05401975])"
      ]
     },
     "execution_count": 7,
     "metadata": {},
     "output_type": "execute_result"
    }
   ],
   "source": [
    "reg = linear_model.Lasso(alpha=1)\n",
    "model=reg.fit(M,y_obs)\n",
    "weights=model.coef_\n",
    "weights"
   ]
  },
  {
   "cell_type": "code",
   "execution_count": 8,
   "id": "cf43ba84-f864-4c9f-8801-fb6a1e8f5c85",
   "metadata": {},
   "outputs": [
    {
     "data": {
      "image/png": "[encoded data removed]",
      "text/plain": [
       "<Figure size 432x288 with 1 Axes>"
      ]
     },
     "metadata": {
      "needs_background": "light"
     },
     "output_type": "display_data"
    }
   ],
   "source": [
    "plt.plot(x_smooth, y_smooth, 'o', label='data')\n",
    "xx = np.linspace(0, 10, 100)\n",
    "yy = p[0] +p[1]*xx+p[2]*xx**2+p[3]*np.sin(xx)\n",
    "zz=weights[0] +weights[1]*xx+weights[2]*xx**2+weights[3]*np.sin(xx)\n",
    "plt.plot(xx, yy, label='OLS')\n",
    "plt.plot(xx,zz,label='LASSO')\n",
    "plt.xlabel('x')\n",
    "plt.ylabel('y')\n",
    "plt.legend(framealpha=1, shadow=True)\n",
    "plt.grid(alpha=0.25)\n",
    "plt.show()"
   ]
  },
  {
   "cell_type": "markdown",
   "id": "101d227f-e521-44d7-933f-e76aad1d9118",
   "metadata": {},
   "source": [
    "Neural Network Implementation "
   ]
  },
  {
   "cell_type": "code",
   "execution_count": 9,
   "id": "3c5855bc-3a05-4a14-82e7-99db645bac8d",
   "metadata": {},
   "outputs": [],
   "source": [
    "n_input = 1\n",
    "n_output = 1  # Regression output is a number only\n",
    "\n",
    "n_hidden_layer = 25 # number of neurons in the hidden layer"
   ]
  },
  {
   "cell_type": "code",
   "execution_count": 10,
   "id": "a6b4a19b-4fd5-41fa-9e76-8f74ec0ddf5a",
   "metadata": {},
   "outputs": [],
   "source": [
    "# weights and bias vectors stored in dict keyed by layer\n",
    "# explicitly create multiple layers here \n",
    "weights = {\n",
    "    'hidden_layer1': tf.Variable(tf.random.normal([n_input, n_hidden_layer])),\n",
    "    'hidden_layer2': tf.Variable(tf.random.normal([n_input, n_hidden_layer])),\n",
    "    'out': tf.Variable(tf.random.normal([n_hidden_layer, n_output]))\n",
    "}\n",
    "biases = {\n",
    "    'hidden_layer1': tf.Variable(tf.random.normal([n_hidden_layer])),\n",
    "     'hidden_layer2': tf.Variable(tf.random.normal([n_hidden_layer])),\n",
    "    'out': tf.Variable(tf.random.normal([n_output]))\n",
    "}"
   ]
  },
  {
   "cell_type": "markdown",
   "id": "4e83632c-43d3-4cdc-9a74-cefea1d7dbf1",
   "metadata": {},
   "source": [
    "Note there are 25 bias terms in the hidden layer as there is a bias for each neuron"
   ]
  },
  {
   "cell_type": "code",
   "execution_count": 11,
   "id": "6c6a424e-4168-4189-ad64-848f93045e2f",
   "metadata": {},
   "outputs": [
    {
     "name": "stdout",
     "output_type": "stream",
     "text": [
      "Shape of the weights tensor of hidden layer 1: (1, 25)\n",
      "Shape of the weights tensor of output layer: (25, 1)\n",
      "--------------------------------------------------------\n",
      "Shape of the bias tensor of hidden layer 1: (25,)\n",
      "Shape of the bias tensor of output layer: (1,)\n"
     ]
    }
   ],
   "source": [
    "print(\"Shape of the weights tensor of hidden layer 1:\",weights['hidden_layer1'].shape)\n",
    "print(\"Shape of the weights tensor of output layer:\",weights['out'].shape)\n",
    "print(\"--------------------------------------------------------\")\n",
    "print(\"Shape of the bias tensor of hidden layer 1:\",biases['hidden_layer1'].shape)\n",
    "print(\"Shape of the bias tensor of output layer:\",biases['out'].shape)"
   ]
  },
  {
   "cell_type": "markdown",
   "id": "b216a2e8-388c-4118-a176-d89f2e306f18",
   "metadata": {},
   "source": [
    "Below we intialize our weights and biases to random values \n",
    "   - Different Distributions one can select to configure init\n",
    "   - Identical weight values will prevent learning due to gradient "
   ]
  },
  {
   "cell_type": "code",
   "execution_count": 12,
   "id": "852e1277-965e-4501-b882-acd875b30714",
   "metadata": {},
   "outputs": [
    {
     "name": "stdout",
     "output_type": "stream",
     "text": [
      "WARNING:tensorflow:From /tmp/ipykernel_31492/2227510493.py:1: The name tf.Session is deprecated. Please use tf.compat.v1.Session instead.\n",
      "\n",
      "WARNING:tensorflow:From /tmp/ipykernel_31492/2227510493.py:2: The name tf.global_variables_initializer is deprecated. Please use tf.compat.v1.global_variables_initializer instead.\n",
      "\n",
      "Weight tensor initialized randomly\n",
      "---------------------------------------\n",
      " [[-0.02212057  0.85248154 -1.4066347   0.5140706   0.5019432   0.45494163\n",
      "   1.7371471   0.77492416  1.0242275   0.06507353 -0.2068789  -0.3185884\n",
      "   0.9678943  -0.01996546  0.6096387  -0.6127352  -1.0740255   0.20947944\n",
      "   1.3636447  -1.3816123   1.8433206  -0.97350544 -0.7695545   0.9568384\n",
      "   0.1049851 ]] [[ 1.7161082  -0.07371872 -0.09889501 -0.66309553 -1.5447357  -1.435163\n",
      "  -0.8385561   0.7309358   0.63002616 -1.5390137  -1.3169798  -1.6735861\n",
      "   0.59314597 -1.0427539   1.4658487  -1.9611827  -1.4450876   0.06761137\n",
      "  -0.44336262 -1.4312712  -0.54689914 -1.9191121   1.2020555  -1.3321178\n",
      "  -0.15028617]]\n",
      "Bias tensor initialized randomly\n",
      "---------------------------------------\n",
      " [-0.8501927   0.59817713 -0.4611862   0.99321365  0.67564213 -0.68281746\n",
      " -1.2791367   0.8783532  -3.4041395   0.08197065  1.0861833   1.2450409\n",
      "  1.7565668   0.6031527   1.1483613  -1.8984339   0.6947259   1.2673299\n",
      " -1.1486958  -0.82138115  0.37458938 -0.22726545 -0.313223    0.16994134\n",
      "  0.07533346] [-1.1512063   0.7600728   0.6272326   0.9812394   0.16631635  0.8371643\n",
      " -0.7978272  -0.48618817  0.05410016 -1.994388   -0.7630425  -0.18653587\n",
      "  1.1256428  -0.61164016  0.45844862  1.03978    -1.4025813   0.5342706\n",
      "  0.697097    0.11394937  1.7083514  -1.2234596   1.1401407   0.30517918\n",
      "  0.43525803]\n"
     ]
    }
   ],
   "source": [
    "with tf.Session() as sess:\n",
    "    sess.run(tf.global_variables_initializer())\n",
    "    w1=sess.run(weights['hidden_layer1'])\n",
    "    b1=sess.run(biases['hidden_layer1'])\n",
    "    w2=sess.run(weights['hidden_layer2'])\n",
    "    b2=sess.run(biases['hidden_layer2'])\n",
    "print(\"Weight tensor initialized randomly\\n---------------------------------------\\n\",w1,w2)\n",
    "print(\"Bias tensor initialized randomly\\n---------------------------------------\\n\",b1,b2)\n",
    "sess.close()"
   ]
  },
  {
   "cell_type": "markdown",
   "id": "89558384-f439-4310-89fd-19feaa3fbf4f",
   "metadata": {},
   "source": [
    "Every Tensorflow model can be formatted as a directed graph that descibes the flow of information \n",
    "\n",
    "First let's set input values"
   ]
  },
  {
   "cell_type": "code",
   "execution_count": 13,
   "id": "015ba0fe-0bb2-4900-bebc-7dd12ec4a2d2",
   "metadata": {},
   "outputs": [
    {
     "name": "stdout",
     "output_type": "stream",
     "text": [
      "WARNING:tensorflow:From /tmp/ipykernel_31492/3365493030.py:2: The name tf.placeholder is deprecated. Please use tf.compat.v1.placeholder instead.\n",
      "\n"
     ]
    }
   ],
   "source": [
    "# tf Graph input\n",
    "x = tf.placeholder(\"float32\", [None,n_input])\n",
    "y = tf.placeholder(\"float32\", [None,n_output])"
   ]
  },
  {
   "cell_type": "markdown",
   "id": "68bba8e6-3f0a-4885-9c70-9d4e6b7d6932",
   "metadata": {},
   "source": [
    "Recall all nodes are connected to one another , so we apply the dot product of weights on our features and scale with bias before applying activation \n",
    "\n",
    "We then add a Relu activation layer\n",
    "\n",
    "And finally an ouput layer"
   ]
  },
  {
   "cell_type": "code",
   "execution_count": 14,
   "id": "6ef5f581-0b0d-4c0d-ad1a-3e05121cb47e",
   "metadata": {},
   "outputs": [],
   "source": [
    "# Hidden layer with RELU activation\n",
    "layer_1 = tf.add(tf.matmul(x, weights['hidden_layer1']),biases['hidden_layer1'])\n",
    "layer_1 = tf.nn.relu(layer_1)\n",
    "\n",
    "layer_2 = tf.add(tf.matmul(x, weights['hidden_layer2']),biases['hidden_layer2'])\n",
    "layer_2 = tf.nn.relu(layer_2)\n",
    "\n",
    "# Output layer with linear activation\n",
    "ops = tf.add(tf.matmul(layer_2, weights['out']), biases['out'])"
   ]
  },
  {
   "cell_type": "code",
   "execution_count": 15,
   "id": "3dceda3b-a787-4d4e-a0ac-2f15152fa7d2",
   "metadata": {},
   "outputs": [
    {
     "name": "stdout",
     "output_type": "stream",
     "text": [
      "WARNING:tensorflow:From /tmp/ipykernel_31492/3909503687.py:1: The name tf.squared_difference is deprecated. Please use tf.math.squared_difference instead.\n",
      "\n",
      "WARNING:tensorflow:From /tmp/ipykernel_31492/3909503687.py:2: The name tf.train.GradientDescentOptimizer is deprecated. Please use tf.compat.v1.train.GradientDescentOptimizer instead.\n",
      "\n"
     ]
    }
   ],
   "source": [
    "cost = tf.reduce_mean(tf.squared_difference(ops,y)) # MSE\n",
    "optimizer = tf.train.GradientDescentOptimizer(learning_rate=0.01).minimize(cost) # gradient descent where loss function is MSE"
   ]
  },
  {
   "cell_type": "code",
   "execution_count": 16,
   "id": "cd0e9a6a-575d-4922-88fe-9aed15a22270",
   "metadata": {},
   "outputs": [
    {
     "name": "stderr",
     "output_type": "stream",
     "text": [
      "100%|███████████████████████████████████████████████████████████████████████████| 10000/10000 [00:07<00:00, 1317.33it/s]\n"
     ]
    }
   ],
   "source": [
    "training_epochs=10000\n",
    "init = tf.global_variables_initializer()\n",
    "\n",
    "# Empty lists for book-keeping purpose\n",
    "epoch=0\n",
    "log_epoch = []\n",
    "epoch_count=[]\n",
    "acc=[]\n",
    "loss_epoch=[]\n",
    "\n",
    "# Launch the graph and time the session\n",
    "t1=time.time()\n",
    "with tf.Session() as sess:\n",
    "    sess.run(init)    \n",
    "    # Loop over epochs\n",
    "    for epoch in tqdm(range(training_epochs)):\n",
    "        # Run optimization process (backprop) and cost function (to get loss value)\n",
    "        _,l=sess.run([optimizer,cost], feed_dict={x:X_train, y: y_train})\n",
    "        loss_epoch.append(l) # Save the loss for every epoch        \n",
    "        epoch_count.append(epoch+1) #Save the epoch count\n",
    "    w=sess.run(weights)\n",
    "    b = sess.run(biases)\n",
    "    yhat=sess.run(ops,feed_dict={x:X_test})\n",
    "t2=time.time()\n",
    "\n",
    "time_SNN = t2-t1"
   ]
  },
  {
   "cell_type": "code",
   "execution_count": 17,
   "id": "78b68dbe-7bcd-42db-8ba3-a662d1d53a3b",
   "metadata": {},
   "outputs": [
    {
     "data": {
      "text/plain": [
       "[<matplotlib.lines.Line2D at 0x7f1a545707d0>]"
      ]
     },
     "execution_count": 17,
     "metadata": {},
     "output_type": "execute_result"
    },
    {
     "data": {
      "image/png": "[encoded data removed]",
      "text/plain": [
       "<Figure size 432x288 with 1 Axes>"
      ]
     },
     "metadata": {
      "needs_background": "light"
     },
     "output_type": "display_data"
    }
   ],
   "source": [
    "plt.plot(loss_epoch)"
   ]
  },
  {
   "cell_type": "markdown",
   "id": "a17555b2-3b7f-458a-9b55-3814c7c6348b",
   "metadata": {},
   "source": [
    "### Results"
   ]
  },
  {
   "cell_type": "code",
   "execution_count": 18,
   "id": "601cf314-0cc2-4cbd-95a8-0a4fe3e41786",
   "metadata": {},
   "outputs": [
    {
     "data": {
      "image/png": "[encoded data removed]",
      "text/plain": [
       "<Figure size 432x288 with 1 Axes>"
      ]
     },
     "metadata": {
      "needs_background": "light"
     },
     "output_type": "display_data"
    }
   ],
   "source": [
    "plt.plot(x_smooth, y_smooth, 'o', label='data')\n",
    "\n",
    "\n",
    "plt.scatter(X_test, yhat, label='NN',color='orange')\n",
    "\n",
    "\n",
    "plt.xlabel('x')\n",
    "plt.ylabel('y')\n",
    "plt.legend(framealpha=1, shadow=True)\n",
    "plt.grid(alpha=0.25)\n",
    "plt.show()"
   ]
  },
  {
   "cell_type": "code",
   "execution_count": null,
   "id": "db9a1708-2b0c-477e-9f98-d62f7d143316",
   "metadata": {},
   "outputs": [],
   "source": []
  },
  {
   "cell_type": "code",
   "execution_count": null,
   "id": "51d5ab24-df56-4426-9457-18362af2ff77",
   "metadata": {},
   "outputs": [],
   "source": []
  }
 ],
 "metadata": {
  "kernelspec": {
   "display_name": "Python [conda env:research]",
   "language": "python",
   "name": "conda-env-research-py"
  },
  "language_info": {
   "codemirror_mode": {
    "name": "ipython",
    "version": 3
   },
   "file_extension": ".py",
   "mimetype": "text/x-python",
   "name": "python",
   "nbconvert_exporter": "python",
   "pygments_lexer": "ipython3",
   "version": "3.7.12"
  }
 },
 "nbformat": 4,
 "nbformat_minor": 5
}
